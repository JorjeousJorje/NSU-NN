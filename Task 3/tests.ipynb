{
 "metadata": {
  "language_info": {
   "codemirror_mode": {
    "name": "ipython",
    "version": 3
   },
   "file_extension": ".py",
   "mimetype": "text/x-python",
   "name": "python",
   "nbconvert_exporter": "python",
   "pygments_lexer": "ipython3",
   "version": "3.8.5"
  },
  "orig_nbformat": 2,
  "kernelspec": {
   "name": "python385jvsc74a57bd08fac594bfae6525c0c41b4041d2d72effa188cc8ead05f81b1fab2bb098927fb",
   "display_name": "Python 3.8.5 64-bit ('base': conda)"
  }
 },
 "nbformat": 4,
 "nbformat_minor": 2,
 "cells": [
  {
   "cell_type": "code",
   "execution_count": 2,
   "metadata": {},
   "outputs": [],
   "source": [
    "import numpy as np"
   ]
  },
  {
   "cell_type": "code",
   "execution_count": null,
   "metadata": {},
   "outputs": [],
   "source": [
    "'''\n",
    "x_offset = 0\n",
    "bias = np.array([1, 0]).reshape(-1, 1)\n",
    "for x in range(result.shape[1]):\n",
    "    y_offset = 0\n",
    "    for y in range(result.shape[2]):\n",
    "        X_dot_W = pic[None, :, x_offset:filter_size + x_offset, y_offset:filter_size + y_offset] * w\n",
    "        result[:, x, y:y + 1] = np.expand_dims(np.sum(X_dot_W, axis=1).sum(axis=1).sum(axis=1), axis=1) + bias\n",
    "        y_offset += stride\n",
    "    x_offset += stride\n",
    "    \n",
    "pp(result)\n",
    "'''"
   ]
  },
  {
   "cell_type": "code",
   "execution_count": 3,
   "metadata": {},
   "outputs": [],
   "source": [
    "def fmt_item(lines, max_lines=0):\n",
    "    max_width = max([len(line) for line in lines])\n",
    "    empty = ' ' * max_width\n",
    "    lines = [line.ljust(max_width) for line in lines]\n",
    "    lines += [empty] * (max_lines - len(lines))\n",
    "    return lines\n",
    "\n",
    "def pp(*lst):\n",
    "    lines = [str(item).split('\\n') for item in lst]\n",
    "    max_lines = max([len(item) for item in lines])\n",
    "    lines = [fmt_item(item, max_lines=max_lines) for item in lines]\n",
    "    lines_t = np.array(lines).T\n",
    "    print('\\n'.join([' '.join(line) for line in lines_t]))"
   ]
  },
  {
   "cell_type": "code",
   "execution_count": 4,
   "metadata": {},
   "outputs": [
    {
     "output_type": "stream",
     "name": "stdout",
     "text": [
      "[1 5]\n[[1 3]\n [5 7]]\n"
     ]
    }
   ],
   "source": [
    "X = np.array([[9, 9, 9, 9, 9, 9, 9, 9, 9], [0.5, 1, 0.5, 0, 0, 0.5, 1, 1, 0]]).reshape(2, 3, 3)\n",
    "W = np.array([[-1, 1, -1, 1], [2, -1, 0, -1], [0, 2, 1 ,1], [0, 1, 0, 1]]).reshape(2, 2, 2, 2)\n",
    "# result = np.zeros((2, 2, 2))\n",
    "# print(X)\n",
    "# print(X[:, 0:2, 0:2])\n",
    "result = np.array([[1, 2, 3, 4], [5, 6, 7, 8]]).reshape(2, 2, 2)\n",
    "print(result[:, 0, 0])\n",
    "print(result[:, :, 0])\n",
    "out_height = result.shape[1]\n",
    "out_width = result.shape[2]\n",
    "\n",
    "for y in range(out_height):\n",
    "    for x in range(out_width):\n",
    "        pass\n",
    "\n",
    "# pp(a[0])"
   ]
  },
  {
   "cell_type": "code",
   "execution_count": 61,
   "metadata": {},
   "outputs": [
    {
     "output_type": "stream",
     "name": "stdout",
     "text": [
      "(2, 27)\n"
     ]
    }
   ],
   "source": [
    "w = np.array([[0, 1, 1, 1, -1, 0, -1, 0, 0], [1, 0, 0, -1, 1, -1, -1, -1, 1], [-1, 0, -1, 1, 0, 0, 0, -1, -1],\n",
    "                [1, 1, -1, 0, 0, 1, -1, 1, 1], [-1, 0, -1, -1, 1, 1, 1, 0, -1], [1, 0, 0, 0, -1, 0, 1, 1, 0]]).reshape(3, 3, 3, 2)\n",
    "flat_w = w.flatten().flatten().reshape(w.shape[3], -1)\n",
    "print(flat_w.shape)"
   ]
  },
  {
   "cell_type": "code",
   "execution_count": 62,
   "metadata": {},
   "outputs": [
    {
     "output_type": "stream",
     "name": "stdout",
     "text": [
      "[[[-1. -4. -1.]  \n  [ 0. -1. -1.]  \n  [ 2.  7.  5.]] \n                 \n [[-1.  4.  2.]  \n  [-3.  2.  1.]  \n  [ 2. -3.  2.]]]\n"
     ]
    }
   ],
   "source": [
    "\n",
    "pic_1 = [ 0, 0, 0, 0, 0, 0, 0,\n",
    "          0, 0, 0, 1, 1, 0, 0,\n",
    "          0, 0, 0, 0, 1, 1, 0,\n",
    "          0, 2, 0, 1, 0, 0, 0,\n",
    "          0, 2, 1, 2, 2, 0, 0,\n",
    "          0, 2, 1, 2, 0, 2, 0,\n",
    "          0, 0, 0, 0, 0, 0, 0 ]\n",
    "\n",
    "pic_2 = [ 0, 0, 0, 0, 0, 0, 0,\n",
    "          0, 0, 1, 0, 0, 1, 0,\n",
    "          0, 1, 2, 1, 1, 2, 0,\n",
    "          0, 0, 0, 1, 2, 1, 0,\n",
    "          0, 0, 2, 0, 2, 0, 0,\n",
    "          0, 2, 2, 2, 0, 2, 0,\n",
    "          0, 0, 0, 0, 0, 0, 0 ]\n",
    "\n",
    "pic_3= [ 0, 0, 0, 0, 0, 0, 0,\n",
    "         0, 1, 1, 1, 1, 1, 0,\n",
    "         0, 1, 1, 2, 0, 1, 0,\n",
    "         0, 2, 0, 2, 2, 0, 0,\n",
    "         0, 0, 0, 1, 0, 1, 0,\n",
    "         0, 2, 1, 0, 2, 0, 0,\n",
    "         0, 0, 0, 0, 0, 0, 0 ]\n",
    "\n",
    "pic = np.array([pic_1, pic_2, pic_3]).reshape(3, 7, 7)\n",
    "result = np.zeros((2, 3, 3))\n",
    "\n",
    "\n",
    "filter_size = 3\n",
    "stride = 2\n",
    "bias = np.array([1, 0])\n",
    "\n",
    "x_offset = 0\n",
    "for x in range(result.shape[1]):\n",
    "    y_offset = 0\n",
    "    for y in range(result.shape[2]):\n",
    "        flat_pic = pic[None, :, x_offset:filter_size + x_offset, y_offset:filter_size + y_offset].flatten()\n",
    "        X_dot_W = np.dot(flat_w, flat_pic)\n",
    "        result_shape = result[:, x, y:y + 1].shape\n",
    "        result[:, x, y:y + 1] = (X_dot_W + bias).reshape(result_shape)\n",
    "        y_offset += stride\n",
    "    x_offset += stride\n",
    "    \n",
    "pp(result)"
   ]
  },
  {
   "cell_type": "code",
   "execution_count": 75,
   "metadata": {},
   "outputs": [
    {
     "output_type": "stream",
     "name": "stdout",
     "text": [
      "(27, 2)\n"
     ]
    }
   ],
   "source": [
    "w = np.array([[0, 1, 1, 1, -1, 0, -1, 0, 0], [1, 0, 0, -1, 1, -1, -1, -1, 1], [-1, 0, -1, 1, 0, 0, 0, -1, -1],\n",
    "                [1, 1, -1, 0, 0, 1, -1, 1, 1], [-1, 0, -1, -1, 1, 1, 1, 0, -1], [1, 0, 0, 0, -1, 0, 1, 1, 0]]).reshape(3, 3, 3, 2)\n",
    "flat_w = w.flatten().flatten().reshape(w.shape[3], -1)\n",
    "print(flat_w.shape)"
   ]
  },
  {
   "cell_type": "code",
   "execution_count": 107,
   "metadata": {},
   "outputs": [
    {
     "output_type": "stream",
     "name": "stdout",
     "text": [
      "[[[[ 1.  3.]   \n   [ 1.  0.]   \n   [ 1. -3.]]  \n               \n  [[ 3. -1.]   \n   [ 2. -1.]   \n   [-3.  2.]]  \n               \n  [[ 2.  3.]   \n   [ 2.  3.]   \n   [ 2. -4.]]] \n               \n               \n [[[ 1.  3.]   \n   [ 1.  0.]   \n   [ 2. -4.]]  \n               \n  [[ 0.  1.]   \n   [ 1.  0.]   \n   [ 0. -1.]]  \n               \n  [[ 6.  8.]   \n   [ 3.  0.]   \n   [-1. -2.]]]]\n"
     ]
    }
   ],
   "source": [
    "pic_1 = [ 0, 0, 0, 0, 0, 0, 0,\n",
    "          0, 0, 0, 1, 1, 0, 0,\n",
    "          0, 0, 0, 0, 1, 1, 0,\n",
    "          0, 2, 0, 1, 0, 0, 0,\n",
    "          0, 2, 1, 2, 2, 0, 0,\n",
    "          0, 2, 1, 2, 0, 2, 0,\n",
    "          0, 0, 0, 0, 0, 0, 0 ]\n",
    "\n",
    "pic_2 = [ 0, 0, 0, 0, 0, 0, 0,\n",
    "          0, 0, 1, 0, 0, 1, 0,\n",
    "          0, 1, 2, 1, 1, 2, 0,\n",
    "          0, 0, 0, 1, 2, 1, 0,\n",
    "          0, 0, 2, 0, 2, 0, 0,\n",
    "          0, 2, 2, 2, 0, 2, 0,\n",
    "          0, 0, 0, 0, 0, 0, 0 ]\n",
    "\n",
    "pic_3= [ 0, 0, 0, 0, 0, 0, 0,\n",
    "         0, 1, 1, 1, 1, 1, 0,\n",
    "         0, 1, 1, 2, 0, 1, 0,\n",
    "         0, 2, 0, 2, 2, 0, 0,\n",
    "         0, 0, 0, 1, 0, 1, 0,\n",
    "         0, 2, 1, 0, 2, 0, 0,\n",
    "         0, 0, 0, 0, 0, 0, 0 ]\n",
    "\n",
    "pic = np.array([[pic_1, pic_2, pic_3], [pic_1, pic_2, pic_3]]).reshape(2, 7, 7, 3)\n",
    "result = np.zeros((2, 3, 3, 2))\n",
    "\n",
    "batch_size = 2\n",
    "filter_size = 3\n",
    "stride = 2\n",
    "bias = np.array([1, 0])\n",
    "\n",
    "x_offset = 0\n",
    "for x in range(result.shape[1]):\n",
    "    y_offset = 0\n",
    "    for y in range(result.shape[2]):\n",
    "        flat_pic = pic[:, x_offset:filter_size + x_offset, y_offset:filter_size + y_offset, :].flatten().reshape(batch_size, flat_w.shape[0])\n",
    "        X_dot_W = np.dot(flat_pic, flat_w)\n",
    "        result_shape = result[:, x, y:y + 1, :].shape\n",
    "        result[:, x, y:y + 1, :] = (X_dot_W + bias).reshape(result_shape)\n",
    "        y_offset += stride\n",
    "    x_offset += stride\n",
    "    \n",
    "pp(result)"
   ]
  },
  {
   "cell_type": "code",
   "execution_count": null,
   "metadata": {},
   "outputs": [],
   "source": []
  }
 ]
}